{
 "cells": [
  {
   "cell_type": "code",
   "execution_count": 52,
   "metadata": {
    "colab": {},
    "colab_type": "code",
    "id": "GyakVoXhBGrv",
    "outputId": "39b8ca38-73c2-4f96-a16b-9898575919b9"
   },
   "outputs": [
    {
     "data": {
      "text/html": [
       "<div>\n",
       "<style scoped>\n",
       "    .dataframe tbody tr th:only-of-type {\n",
       "        vertical-align: middle;\n",
       "    }\n",
       "\n",
       "    .dataframe tbody tr th {\n",
       "        vertical-align: top;\n",
       "    }\n",
       "\n",
       "    .dataframe thead th {\n",
       "        text-align: right;\n",
       "    }\n",
       "</style>\n",
       "<table border=\"1\" class=\"dataframe\">\n",
       "  <thead>\n",
       "    <tr style=\"text-align: right;\">\n",
       "      <th></th>\n",
       "      <th>siswa_id</th>\n",
       "      <th>pelajaran</th>\n",
       "      <th>nilai</th>\n",
       "      <th>jenis-kelamin</th>\n",
       "      <th>kelas</th>\n",
       "    </tr>\n",
       "  </thead>\n",
       "  <tbody>\n",
       "    <tr>\n",
       "      <th>0</th>\n",
       "      <td>1</td>\n",
       "      <td>Ekonomi</td>\n",
       "      <td>31</td>\n",
       "      <td>perempuan</td>\n",
       "      <td>12C</td>\n",
       "    </tr>\n",
       "    <tr>\n",
       "      <th>1</th>\n",
       "      <td>2</td>\n",
       "      <td>Ekonomi</td>\n",
       "      <td>86</td>\n",
       "      <td>laki-laki</td>\n",
       "      <td>12D</td>\n",
       "    </tr>\n",
       "    <tr>\n",
       "      <th>2</th>\n",
       "      <td>3</td>\n",
       "      <td>Fisika</td>\n",
       "      <td>19</td>\n",
       "      <td>perempuan</td>\n",
       "      <td>12D</td>\n",
       "    </tr>\n",
       "    <tr>\n",
       "      <th>3</th>\n",
       "      <td>4</td>\n",
       "      <td>Matematika</td>\n",
       "      <td>71</td>\n",
       "      <td>perempuan</td>\n",
       "      <td>12C</td>\n",
       "    </tr>\n",
       "    <tr>\n",
       "      <th>4</th>\n",
       "      <td>5</td>\n",
       "      <td>Biologi</td>\n",
       "      <td>33</td>\n",
       "      <td>laki-laki</td>\n",
       "      <td>12A</td>\n",
       "    </tr>\n",
       "  </tbody>\n",
       "</table>\n",
       "</div>"
      ],
      "text/plain": [
       "   siswa_id   pelajaran  nilai jenis-kelamin kelas\n",
       "0         1     Ekonomi     31     perempuan   12C\n",
       "1         2     Ekonomi     86     laki-laki   12D\n",
       "2         3      Fisika     19     perempuan   12D\n",
       "3         4  Matematika     71     perempuan   12C\n",
       "4         5     Biologi     33     laki-laki   12A"
      ]
     },
     "execution_count": 52,
     "metadata": {},
     "output_type": "execute_result"
    }
   ],
   "source": [
    "# Persiapan membuat data\n",
    "import pandas as pd\n",
    "import random\n",
    "\n",
    "pelajaran = ['Matematika', 'Fisika', 'Biologi', 'Kimia', 'Geologi', 'Ekonomi']\n",
    "kelas = ['12A', '12B', '12C', '12D']\n",
    "\n",
    "hasil_nilai = {\n",
    "    'siswa_id' : range(1, 21),\n",
    "    'pelajaran' : [random.choice(pelajaran) for i in range(20)],\n",
    "    'nilai' : [random.choice(range(0, 100)) for i in range(20)],\n",
    "    'jenis-kelamin' : [random.choice(['laki-laki', 'perempuan']) for i in range(20)],\n",
    "    'kelas' : [random.choice(kelas) for i in range(20)]\n",
    "}\n",
    "\n",
    "df = pd.DataFrame(hasil_nilai)\n",
    "df.head()"
   ]
  },
  {
   "cell_type": "markdown",
   "metadata": {
    "colab_type": "text",
    "id": "aNoScqypBGr5"
   },
   "source": [
    "<h2>Soal 1: Indexing</h2>\n",
    "\n",
    "1. Lakukan indexing terhadap dataframe untuk mengakses column nilai dan kelas saja\n",
    "2. Lakukan indexing terhadap dataframe untuk mengakses row 5 sampai 10 beserta column pelajaran dan nilai"
   ]
  },
  {
   "cell_type": "code",
   "execution_count": 53,
   "metadata": {
    "colab": {},
    "colab_type": "code",
    "id": "rKmgvnS2BGr6"
   },
   "outputs": [
    {
     "name": "stdout",
     "output_type": "stream",
     "text": [
      "    nilai kelas\n",
      "0      31   12C\n",
      "1      86   12D\n",
      "2      19   12D\n",
      "3      71   12C\n",
      "4      33   12A\n",
      "5       2   12D\n",
      "6      94   12B\n",
      "7      40   12D\n",
      "8      57   12B\n",
      "9      11   12D\n",
      "10     29   12A\n",
      "11     75   12C\n",
      "12     97   12D\n",
      "13     74   12C\n",
      "14     98   12A\n",
      "15     69   12B\n",
      "16      3   12A\n",
      "17     70   12C\n",
      "18     83   12B\n",
      "19     18   12B\n",
      "  pelajaran  nilai\n",
      "4   Biologi     33\n",
      "5     Kimia      2\n",
      "6    Fisika     94\n",
      "7   Geologi     40\n",
      "8    Fisika     57\n",
      "9     Kimia     11\n"
     ]
    }
   ],
   "source": [
    "# code here\n",
    "df2 = df[['nilai','kelas']]\n",
    "print(df2)\n",
    "\n",
    "df3 = df[['pelajaran','nilai']]\n",
    "print(df3[4:10])"
   ]
  },
  {
   "cell_type": "markdown",
   "metadata": {
    "colab_type": "text",
    "id": "F55zUl5GBGr_"
   },
   "source": [
    "<h2>Soal 2: Filter DataFrame Dengan Boolean</h2>\n",
    "\n",
    "1. Tampilkan semua data siswa pada mata pelajaran Ekonomi dan Fisika\n",
    "2. Tampilkan semua data siswa yang mempunyai nilai lebih dari 50 di mata pelajaran Kimia \n",
    "3. Tampilkan semua data yang mempunyai nilai lebih dari 70, berjnis kelamin perempuan dan di kelas 12C"
   ]
  },
  {
   "cell_type": "code",
   "execution_count": 56,
   "metadata": {
    "colab": {},
    "colab_type": "code",
    "id": "eB5oSf_KBGsA"
   },
   "outputs": [
    {
     "name": "stdout",
     "output_type": "stream",
     "text": [
      "    siswa_id pelajaran  nilai jenis-kelamin kelas\n",
      "0          1   Ekonomi     31     perempuan   12C\n",
      "1          2   Ekonomi     86     laki-laki   12D\n",
      "2          3    Fisika     19     perempuan   12D\n",
      "6          7    Fisika     94     perempuan   12B\n",
      "8          9    Fisika     57     laki-laki   12B\n",
      "10        11   Ekonomi     29     perempuan   12A\n",
      "11        12   Ekonomi     75     laki-laki   12C\n",
      "14        15   Ekonomi     98     laki-laki   12A\n",
      "15        16    Fisika     69     laki-laki   12B\n",
      "16        17    Fisika      3     laki-laki   12A\n",
      "19        20   Ekonomi     18     laki-laki   12B\n",
      "    siswa_id pelajaran  nilai jenis-kelamin kelas\n",
      "17        18     Kimia     70     perempuan   12C\n",
      "    siswa_id   pelajaran  nilai jenis-kelamin kelas\n",
      "3          4  Matematika     71     perempuan   12C\n",
      "13        14  Matematika     74     perempuan   12C\n"
     ]
    }
   ],
   "source": [
    "# code here\n",
    "df4 = df.loc[df[\"pelajaran\"].isin(['Ekonomi','Fisika'])]\n",
    "print(df4)\n",
    "\n",
    "df5 = df.loc[(df['nilai'] > 50) & (df['pelajaran'] == 'Kimia')]\n",
    "print(df5)\n",
    "\n",
    "df6 = df.loc[(df['nilai'] > 70) & (df['jenis-kelamin'] == 'perempuan') & (df['kelas'] == '12C')]\n",
    "print(df6)"
   ]
  },
  {
   "cell_type": "markdown",
   "metadata": {
    "colab_type": "text",
    "id": "6Od6R3H1BGsE"
   },
   "source": [
    "<h2>Soal 3: Data Transformation</h2>\n",
    "\n",
    "lakukan data transformasi terhadap column 'nilai' dengan fungsi transformasi, berikut rumus dari normalisasi\n",
    "\n",
    "![alt text](https://drive.google.com/uc?id=1wed-EbRSTA0JP1ceDp6lcKBqH2yJ4aa3)"
   ]
  },
  {
   "cell_type": "code",
   "execution_count": 60,
   "metadata": {
    "colab": {},
    "colab_type": "code",
    "id": "qeV_iH8nBGsF"
   },
   "outputs": [
    {
     "name": "stdout",
     "output_type": "stream",
     "text": [
      "       nilai\n",
      "0   0.302083\n",
      "1   0.875000\n",
      "2   0.177083\n",
      "3   0.718750\n",
      "4   0.322917\n",
      "5   0.000000\n",
      "6   0.958333\n",
      "7   0.395833\n",
      "8   0.572917\n",
      "9   0.093750\n",
      "10  0.281250\n",
      "11  0.760417\n",
      "12  0.989583\n",
      "13  0.750000\n",
      "14  1.000000\n",
      "15  0.697917\n",
      "16  0.010417\n",
      "17  0.708333\n",
      "18  0.843750\n",
      "19  0.166667\n"
     ]
    }
   ],
   "source": [
    "# code here\n",
    "def norm(x):\n",
    "    return (x - x.min())/(x.max() - x.min())\n",
    "print(df[['nilai']].apply(norm))"
   ]
  },
  {
   "cell_type": "code",
   "execution_count": null,
   "metadata": {},
   "outputs": [],
   "source": []
  }
 ],
 "metadata": {
  "colab": {
   "name": "Tugas Hari 2 Pekan 2.ipynb",
   "provenance": []
  },
  "kernelspec": {
   "display_name": "Python 3",
   "language": "python",
   "name": "python3"
  },
  "language_info": {
   "codemirror_mode": {
    "name": "ipython",
    "version": 3
   },
   "file_extension": ".py",
   "mimetype": "text/x-python",
   "name": "python",
   "nbconvert_exporter": "python",
   "pygments_lexer": "ipython3",
   "version": "3.7.3"
  }
 },
 "nbformat": 4,
 "nbformat_minor": 1
}
